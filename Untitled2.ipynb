{
 "cells": [
  {
   "cell_type": "markdown",
   "id": "9194bc1c",
   "metadata": {},
   "source": [
    "Generadores congruenciales"
   ]
  },
  {
   "cell_type": "code",
   "execution_count": 2,
   "id": "e193dc10",
   "metadata": {},
   "outputs": [
    {
     "name": "stdout",
     "output_type": "stream",
     "text": [
      "Visto en clase\n",
      "0.0\n",
      "0.5714285714285714\n",
      "0.42857142857142855\n",
      "0.7142857142857143\n",
      "0.14285714285714285\n",
      "0.2857142857142857\n",
      "0.0\n",
      "0.5714285714285714\n",
      "0.42857142857142855\n",
      "0.7142857142857143\n"
     ]
    }
   ],
   "source": [
    "import random \n",
    "x=2\n",
    "i=1\n",
    "print(\"Visto en clase\")\n",
    "#formula x_i=(a*x_{i-1}+c)mod(m), 0<a<m, 0<c<m, 0<x_0<m\n",
    "#Hecho en clase\n",
    "while (i<11):\n",
    "    x=(5*x+11)%7\n",
    "    imp=x/7\n",
    "    print(imp)\n",
    "    i+=1"
   ]
  },
  {
   "cell_type": "code",
   "execution_count": 3,
   "id": "a17d5ed5",
   "metadata": {},
   "outputs": [
    {
     "name": "stdout",
     "output_type": "stream",
     "text": [
      "Nuevos datos\n",
      "0.375\n",
      "0.9375\n",
      "0.75\n",
      "0.8125\n",
      "0.125\n",
      "0.6875\n",
      "0.5\n",
      "0.5625\n",
      "0.875\n",
      "0.4375\n",
      "0.25\n",
      "0.3125\n",
      "0.625\n",
      "0.1875\n",
      "0.0\n",
      "0.0625\n",
      "0.375\n",
      "0.9375\n",
      "0.75\n"
     ]
    }
   ],
   "source": [
    "#Otros datos\n",
    "y=1\n",
    "j=1\n",
    "print(\"Nuevos datos\")\n",
    "while (j<20):\n",
    "    y=(5*y+1)%16\n",
    "    imp2=y/16\n",
    "    print(imp2)\n",
    "    j+=1"
   ]
  },
  {
   "cell_type": "code",
   "execution_count": 4,
   "id": "c48110af",
   "metadata": {},
   "outputs": [
    {
     "ename": "IndentationError",
     "evalue": "unexpected indent (2592317061.py, line 2)",
     "output_type": "error",
     "traceback": [
      "\u001b[1;36m  Cell \u001b[1;32mIn[4], line 2\u001b[1;36m\u001b[0m\n\u001b[1;33m    k=0\u001b[0m\n\u001b[1;37m    ^\u001b[0m\n\u001b[1;31mIndentationError\u001b[0m\u001b[1;31m:\u001b[0m unexpected indent\n"
     ]
    }
   ],
   "source": [
    " print(\"Metodo de las 12 uniformes\")\n",
    "    k=0\n",
    "    u=[]\n",
    "    datos=[]\n",
    "    for k in range(12):\n",
    "        u.append(random.random())\n",
    "        print(u[k])\n",
    "        \n",
    "    suma=sum(u)\n",
    "    datos.append(suma)\n",
    "       # print(datos)"
   ]
  }
 ],
 "metadata": {
  "kernelspec": {
   "display_name": "Python 3 (ipykernel)",
   "language": "python",
   "name": "python3"
  },
  "language_info": {
   "codemirror_mode": {
    "name": "ipython",
    "version": 3
   },
   "file_extension": ".py",
   "mimetype": "text/x-python",
   "name": "python",
   "nbconvert_exporter": "python",
   "pygments_lexer": "ipython3",
   "version": "3.10.9"
  }
 },
 "nbformat": 4,
 "nbformat_minor": 5
}
