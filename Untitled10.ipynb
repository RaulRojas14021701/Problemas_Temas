{
  "nbformat": 4,
  "nbformat_minor": 0,
  "metadata": {
    "colab": {
      "provenance": [],
      "authorship_tag": "ABX9TyM/QvpzTTl8KhOQar7dcP8Z",
      "include_colab_link": true
    },
    "kernelspec": {
      "name": "python3",
      "display_name": "Python 3"
    },
    "language_info": {
      "name": "python"
    }
  },
  "cells": [
    {
      "cell_type": "markdown",
      "metadata": {
        "id": "view-in-github",
        "colab_type": "text"
      },
      "source": [
        "<a href=\"https://colab.research.google.com/github/RaulRojas14021701/Problemas_Temas/blob/master/Untitled10.ipynb\" target=\"_parent\"><img src=\"https://colab.research.google.com/assets/colab-badge.svg\" alt=\"Open In Colab\"/></a>"
      ]
    },
    {
      "cell_type": "code",
      "execution_count": null,
      "metadata": {
        "id": "5oChgMdpWiHF"
      },
      "outputs": [],
      "source": []
    },
    {
      "cell_type": "markdown",
      "source": [
        "#Falsificaciones de Van Meegeren\n",
        "\n",
        "Para este caso se tiene una ecuación pra conocer la edad de una pintura según un fenómeno radiactivo de sus atomos inestables.\n",
        "\n",
        "Se tiene que en un intervalo de tiempo una fracción fija de los atomos se desintegrara para formar un nuevo elemento\n",
        "\n",
        "De la ley de balance tendremos\n",
        "$$\\frac{dN}{dt}=-\\lambda N$$ Donde\n",
        "$N(t)=$Atomos en un tiempo $t$\n",
        "\n",
        "$\\frac{dN}{dt}=$Atomos deintegrados en una fraccion de tiempo\n",
        "\n",
        "$λ$ es el decaimiento\n",
        "\n",
        "$N(t_0)=N_0$ sera la semivida del elemento"
      ],
      "metadata": {
        "id": "YJ4o0502XY5v"
      }
    },
    {
      "cell_type": "code",
      "source": [
        "import sympy\n",
        "from sympy import *\n",
        "sympy.init_printing()"
      ],
      "metadata": {
        "id": "lBu2ijvHY0xZ"
      },
      "execution_count": 1,
      "outputs": []
    },
    {
      "cell_type": "code",
      "source": [
        "t,N0,k1,t0=sympy.symbols(\"t,N_0,k_1,t_0\")\n",
        "N = sympy.Function(\"N\")"
      ],
      "metadata": {
        "id": "2riDuIKtZCJg"
      },
      "execution_count": null,
      "outputs": []
    },
    {
      "cell_type": "code",
      "source": [
        "ode1=N(t).diff(t)+k1*N(t)"
      ],
      "metadata": {
        "id": "4KD7gpveZNmB"
      },
      "execution_count": null,
      "outputs": []
    },
    {
      "cell_type": "code",
      "source": [
        "ode1"
      ],
      "metadata": {
        "colab": {
          "base_uri": "https://localhost:8080/",
          "height": 52
        },
        "id": "xvvmLLQfZQSK",
        "outputId": "81570903-0468-4973-963f-d01dd837bb79"
      },
      "execution_count": null,
      "outputs": [
        {
          "output_type": "execute_result",
          "data": {
            "text/plain": [
              "          d       \n",
              "k₁⋅N(t) + ──(N(t))\n",
              "          dt      "
            ],
            "text/latex": "$\\displaystyle k_{1} N{\\left(t \\right)} + \\frac{d}{d t} N{\\left(t \\right)}$"
          },
          "metadata": {},
          "execution_count": 23
        }
      ]
    },
    {
      "cell_type": "code",
      "source": [
        "# Resolvemos para hallar la solución general:\n",
        "ode_sol = sympy.dsolve(ode1)\n",
        "ode_sol"
      ],
      "metadata": {
        "colab": {
          "base_uri": "https://localhost:8080/",
          "height": 39
        },
        "id": "wTxaQGvgZhuS",
        "outputId": "499debf8-d021-44ea-cef6-8cd72ec94404"
      },
      "execution_count": null,
      "outputs": [
        {
          "output_type": "execute_result",
          "data": {
            "text/plain": [
              "           -k₁⋅t\n",
              "N(t) = C₁⋅ℯ     "
            ],
            "text/latex": "$\\displaystyle N{\\left(t \\right)} = C_{1} e^{- k_{1} t}$"
          },
          "metadata": {},
          "execution_count": 24
        }
      ]
    },
    {
      "cell_type": "markdown",
      "source": [
        "Considerando ahora $t=t-t_0$ y sustituyendo tendremos\n",
        "$$-\\lambda (t-t_0)=ln(\\frac{N}{N_0})$$"
      ],
      "metadata": {
        "id": "BX7vMqZRxT-A"
      }
    },
    {
      "cell_type": "code",
      "source": [
        "t,y0,k1,t0=sympy.symbols(\"t,y_0,k_1,t_0\")\n",
        "y = sympy.Function(\"y\")\n",
        "r= sympy.Function(\"r\")"
      ],
      "metadata": {
        "id": "ZsqMV_vDx-LZ"
      },
      "execution_count": null,
      "outputs": []
    },
    {
      "cell_type": "code",
      "source": [
        "ode2=y(t).diff(t)+k1*y(t)-r(t)\n",
        "ode2"
      ],
      "metadata": {
        "colab": {
          "base_uri": "https://localhost:8080/",
          "height": 52
        },
        "id": "af4qDu-lyKGi",
        "outputId": "61090616-d420-4f8e-efa4-a5b9b0f0a6e7"
      },
      "execution_count": null,
      "outputs": [
        {
          "output_type": "execute_result",
          "data": {
            "text/plain": [
              "                 d       \n",
              "k₁⋅y(t) - r(t) + ──(y(t))\n",
              "                 dt      "
            ],
            "text/latex": "$\\displaystyle k_{1} y{\\left(t \\right)} - r{\\left(t \\right)} + \\frac{d}{d t} y{\\left(t \\right)}$"
          },
          "metadata": {},
          "execution_count": 18
        }
      ]
    },
    {
      "cell_type": "code",
      "source": [
        "ode2_sol = sympy.dsolve(ode2)\n",
        "ode2_sol"
      ],
      "metadata": {
        "colab": {
          "base_uri": "https://localhost:8080/",
          "height": 55
        },
        "id": "JEfs2JeTyc3z",
        "outputId": "3a836b61-c181-44cb-d203-0be7393728c7"
      },
      "execution_count": null,
      "outputs": [
        {
          "output_type": "execute_result",
          "data": {
            "text/plain": [
              "⌠                               \n",
              "⎮                   k₁⋅t        \n",
              "⎮ (k₁⋅y(t) - r(t))⋅ℯ     dt = C₁\n",
              "⌡                               "
            ],
            "text/latex": "$\\displaystyle \\int \\left(k_{1} y{\\left(t \\right)} - r{\\left(t \\right)}\\right) e^{k_{1} t}\\, dt = C_{1}$"
          },
          "metadata": {},
          "execution_count": 19
        }
      ]
    }
  ]
}