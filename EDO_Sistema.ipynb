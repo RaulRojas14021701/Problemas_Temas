{
  "nbformat": 4,
  "nbformat_minor": 0,
  "metadata": {
    "colab": {
      "provenance": [],
      "authorship_tag": "ABX9TyOcmZdD5phBUbFwExaXbuhL",
      "include_colab_link": true
    },
    "kernelspec": {
      "name": "python3",
      "display_name": "Python 3"
    },
    "language_info": {
      "name": "python"
    }
  },
  "cells": [
    {
      "cell_type": "markdown",
      "metadata": {
        "id": "view-in-github",
        "colab_type": "text"
      },
      "source": [
        "<a href=\"https://colab.research.google.com/github/RaulRojas14021701/Problemas_Temas/blob/master/EDO_Sistema.ipynb\" target=\"_parent\"><img src=\"https://colab.research.google.com/assets/colab-badge.svg\" alt=\"Open In Colab\"/></a>"
      ]
    },
    {
      "cell_type": "code",
      "execution_count": 1,
      "metadata": {
        "id": "Ug7e43wFjQQY"
      },
      "outputs": [],
      "source": [
        "import sympy\n",
        "from sympy import *\n",
        "sympy.init_printing()"
      ]
    },
    {
      "cell_type": "code",
      "source": [
        "import numpy as np\n",
        "import matplotlib.pyplot as plt"
      ],
      "metadata": {
        "id": "LYeuoC2VryKn"
      },
      "execution_count": 2,
      "outputs": []
    },
    {
      "cell_type": "code",
      "source": [
        "\n",
        "t,x0,y0,k1,k2=sympy.symbols(\"t,x_0,y_0,k_1,k_2\")\n",
        "x = sympy.Function(\"x\")\n",
        "y = sympy.Function(\"y\")"
      ],
      "metadata": {
        "id": "GmLmQNxsjgA3"
      },
      "execution_count": 3,
      "outputs": []
    },
    {
      "cell_type": "code",
      "source": [
        "ode1=x(t).diff(t)+k1*x(t)"
      ],
      "metadata": {
        "id": "DbracZjxkhmf"
      },
      "execution_count": 4,
      "outputs": []
    },
    {
      "cell_type": "code",
      "source": [
        "ode1"
      ],
      "metadata": {
        "colab": {
          "base_uri": "https://localhost:8080/",
          "height": 52
        },
        "id": "ZLiBOEpbk7U5",
        "outputId": "6d3e7311-eb88-438c-f036-d4b13300b81f"
      },
      "execution_count": 5,
      "outputs": [
        {
          "output_type": "execute_result",
          "data": {
            "text/plain": [
              "          d       \n",
              "k₁⋅x(t) + ──(x(t))\n",
              "          dt      "
            ],
            "text/latex": "$\\displaystyle k_{1} x{\\left(t \\right)} + \\frac{d}{d t} x{\\left(t \\right)}$"
          },
          "metadata": {},
          "execution_count": 5
        }
      ]
    },
    {
      "cell_type": "code",
      "source": [
        "ode2=y(t).diff(t)-k1*x(t)+k2*y(t)"
      ],
      "metadata": {
        "id": "evUfAsPBk-iG"
      },
      "execution_count": 6,
      "outputs": []
    },
    {
      "cell_type": "code",
      "source": [
        "ode2"
      ],
      "metadata": {
        "colab": {
          "base_uri": "https://localhost:8080/",
          "height": 52
        },
        "id": "KeCq5R8UlJHW",
        "outputId": "e9dc4496-5679-46f9-e78a-754fe8c6fe6d"
      },
      "execution_count": 7,
      "outputs": [
        {
          "output_type": "execute_result",
          "data": {
            "text/plain": [
              "                     d       \n",
              "-k₁⋅x(t) + k₂⋅y(t) + ──(y(t))\n",
              "                     dt      "
            ],
            "text/latex": "$\\displaystyle - k_{1} x{\\left(t \\right)} + k_{2} y{\\left(t \\right)} + \\frac{d}{d t} y{\\left(t \\right)}$"
          },
          "metadata": {},
          "execution_count": 7
        }
      ]
    },
    {
      "cell_type": "code",
      "source": [
        "sistema=(ode1,ode2)\n",
        "sistema"
      ],
      "metadata": {
        "colab": {
          "base_uri": "https://localhost:8080/",
          "height": 58
        },
        "id": "K4BJG4WplZwn",
        "outputId": "e93a6f1b-40e7-4cf2-f3a6-2cdf4052b826"
      },
      "execution_count": 8,
      "outputs": [
        {
          "output_type": "execute_result",
          "data": {
            "text/plain": [
              "⎛          d                              d       ⎞\n",
              "⎜k₁⋅x(t) + ──(x(t)), -k₁⋅x(t) + k₂⋅y(t) + ──(y(t))⎟\n",
              "⎝          dt                             dt      ⎠"
            ],
            "text/latex": "$\\displaystyle \\left( k_{1} x{\\left(t \\right)} + \\frac{d}{d t} x{\\left(t \\right)}, \\  - k_{1} x{\\left(t \\right)} + k_{2} y{\\left(t \\right)} + \\frac{d}{d t} y{\\left(t \\right)}\\right)$"
          },
          "metadata": {},
          "execution_count": 8
        }
      ]
    },
    {
      "cell_type": "code",
      "source": [
        "dsolve(sistema)"
      ],
      "metadata": {
        "colab": {
          "base_uri": "https://localhost:8080/",
          "height": 59
        },
        "id": "gxsbpX6lpdQn",
        "outputId": "53f691fc-2c2c-4bda-fa2c-ca829bf72ce2"
      },
      "execution_count": 9,
      "outputs": [
        {
          "output_type": "execute_result",
          "data": {
            "text/plain": [
              "⎡                      -k₁⋅t                               ⎤\n",
              "⎢       -C₁⋅(k₁ - k₂)⋅ℯ                   -k₁⋅t       -k₂⋅t⎥\n",
              "⎢x(t) = ─────────────────────, y(t) = C₁⋅ℯ      + C₂⋅ℯ     ⎥\n",
              "⎣                 k₁                                       ⎦"
            ],
            "text/latex": "$\\displaystyle \\left[ x{\\left(t \\right)} = - \\frac{C_{1} \\left(k_{1} - k_{2}\\right) e^{- k_{1} t}}{k_{1}}, \\  y{\\left(t \\right)} = C_{1} e^{- k_{1} t} + C_{2} e^{- k_{2} t}\\right]$"
          },
          "metadata": {},
          "execution_count": 9
        }
      ]
    },
    {
      "cell_type": "markdown",
      "source": [],
      "metadata": {
        "id": "HITgNkpapXBF"
      }
    },
    {
      "cell_type": "code",
      "source": [
        "soly=dsolve(sistema)\n",
        "soly[1]"
      ],
      "metadata": {
        "colab": {
          "base_uri": "https://localhost:8080/",
          "height": 38
        },
        "id": "HCv6GU8ilsKd",
        "outputId": "0b7a3caf-d173-4825-e956-09acc3eb292f"
      },
      "execution_count": 10,
      "outputs": [
        {
          "output_type": "execute_result",
          "data": {
            "text/plain": [
              "           -k₁⋅t       -k₂⋅t\n",
              "y(t) = C₁⋅ℯ      + C₂⋅ℯ     "
            ],
            "text/latex": "$\\displaystyle y{\\left(t \\right)} = C_{1} e^{- k_{1} t} + C_{2} e^{- k_{2} t}$"
          },
          "metadata": {},
          "execution_count": 10
        }
      ]
    },
    {
      "cell_type": "code",
      "source": [
        "condi={x(0):x0,y(0):y0}"
      ],
      "metadata": {
        "id": "LrZxmBW7mOBP"
      },
      "execution_count": 12,
      "outputs": []
    },
    {
      "cell_type": "code",
      "source": [
        "solyc=dsolve(sistema,ics=condi)\n",
        "solyc"
      ],
      "metadata": {
        "colab": {
          "base_uri": "https://localhost:8080/",
          "height": 59
        },
        "id": "7BlH_MSnmrcC",
        "outputId": "9a3e2ab1-8736-43ab-a967-cb1ccfc79b02"
      },
      "execution_count": 13,
      "outputs": [
        {
          "output_type": "execute_result",
          "data": {
            "text/plain": [
              "⎡                                  -k₁⋅t                        ⎤\n",
              "⎢           -k₁⋅t           k₁⋅x₀⋅ℯ        ⎛ k₁⋅x₀      ⎞  -k₂⋅t⎥\n",
              "⎢x(t) = x₀⋅ℯ     , y(t) = - ──────────── + ⎜─────── + y₀⎟⋅ℯ     ⎥\n",
              "⎣                             k₁ - k₂      ⎝k₁ - k₂     ⎠       ⎦"
            ],
            "text/latex": "$\\displaystyle \\left[ x{\\left(t \\right)} = x_{0} e^{- k_{1} t}, \\  y{\\left(t \\right)} = - \\frac{k_{1} x_{0} e^{- k_{1} t}}{k_{1} - k_{2}} + \\left(\\frac{k_{1} x_{0}}{k_{1} - k_{2}} + y_{0}\\right) e^{- k_{2} t}\\right]$"
          },
          "metadata": {},
          "execution_count": 13
        }
      ]
    },
    {
      "cell_type": "code",
      "source": [
        "display(solyc[0],solyc[1])"
      ],
      "metadata": {
        "colab": {
          "base_uri": "https://localhost:8080/",
          "height": 80
        },
        "id": "LuVo0NoPnEJe",
        "outputId": "0c76071f-6b0f-41c8-afe7-abdc40727464"
      },
      "execution_count": 14,
      "outputs": [
        {
          "output_type": "display_data",
          "data": {
            "text/plain": [
              "           -k₁⋅t\n",
              "x(t) = x₀⋅ℯ     "
            ],
            "text/latex": "$\\displaystyle x{\\left(t \\right)} = x_{0} e^{- k_{1} t}$"
          },
          "metadata": {}
        },
        {
          "output_type": "display_data",
          "data": {
            "text/plain": [
              "                -k₁⋅t                        \n",
              "         k₁⋅x₀⋅ℯ        ⎛ k₁⋅x₀      ⎞  -k₂⋅t\n",
              "y(t) = - ──────────── + ⎜─────── + y₀⎟⋅ℯ     \n",
              "           k₁ - k₂      ⎝k₁ - k₂     ⎠       "
            ],
            "text/latex": "$\\displaystyle y{\\left(t \\right)} = - \\frac{k_{1} x_{0} e^{- k_{1} t}}{k_{1} - k_{2}} + \\left(\\frac{k_{1} x_{0}}{k_{1} - k_{2}} + y_{0}\\right) e^{- k_{2} t}$"
          },
          "metadata": {}
        }
      ]
    },
    {
      "cell_type": "code",
      "source": [
        "y_x = sympy.lambdify((y, k1,k2), solyc[1].rhs, 'numpy')"
      ],
      "metadata": {
        "id": "i892N9e4q1jZ"
      },
      "execution_count": 15,
      "outputs": []
    },
    {
      "cell_type": "code",
      "source": [
        "fig, ax = plt.subplots(figsize=(8, 4))\n",
        "\n",
        "x = np.linspace(0, 4, 100)\n",
        "\n",
        "for k1 in [4, 5, 6]:\n",
        "    ax.plot(x, y_x(y, k1,k2), label=r\"$k1=%d$\" % k1)\n",
        "\n",
        "ax.set_title(r\"$%s$\" % sympy.latex(solyc[1]), fontsize=18)\n",
        "ax.set_xlabel(r\"$x$\", fontsize=18)\n",
        "ax.set_ylabel(r\"$y$\", fontsize=18)\n",
        "ax.legend()\n",
        "\n",
        "fig.tight_layout()"
      ],
      "metadata": {
        "colab": {
          "base_uri": "https://localhost:8080/",
          "height": 769
        },
        "id": "8lwTPttbrPU-",
        "outputId": "09473a97-0a9d-403b-d16b-7f6fcb09d6fe"
      },
      "execution_count": 16,
      "outputs": [
        {
          "output_type": "error",
          "ename": "TypeError",
          "evalue": "ignored",
          "traceback": [
            "\u001b[0;31m---------------------------------------------------------------------------\u001b[0m",
            "\u001b[0;31mAttributeError\u001b[0m                            Traceback (most recent call last)",
            "\u001b[0;31mAttributeError\u001b[0m: 'Mul' object has no attribute 'exp'",
            "\nThe above exception was the direct cause of the following exception:\n",
            "\u001b[0;31mTypeError\u001b[0m                                 Traceback (most recent call last)",
            "\u001b[0;32m<ipython-input-16-bacbf5471faf>\u001b[0m in \u001b[0;36m<cell line: 5>\u001b[0;34m()\u001b[0m\n\u001b[1;32m      4\u001b[0m \u001b[0;34m\u001b[0m\u001b[0m\n\u001b[1;32m      5\u001b[0m \u001b[0;32mfor\u001b[0m \u001b[0mk1\u001b[0m \u001b[0;32min\u001b[0m \u001b[0;34m[\u001b[0m\u001b[0;36m4\u001b[0m\u001b[0;34m,\u001b[0m \u001b[0;36m5\u001b[0m\u001b[0;34m,\u001b[0m \u001b[0;36m6\u001b[0m\u001b[0;34m]\u001b[0m\u001b[0;34m:\u001b[0m\u001b[0;34m\u001b[0m\u001b[0;34m\u001b[0m\u001b[0m\n\u001b[0;32m----> 6\u001b[0;31m     \u001b[0max\u001b[0m\u001b[0;34m.\u001b[0m\u001b[0mplot\u001b[0m\u001b[0;34m(\u001b[0m\u001b[0mx\u001b[0m\u001b[0;34m,\u001b[0m \u001b[0my_x\u001b[0m\u001b[0;34m(\u001b[0m\u001b[0my\u001b[0m\u001b[0;34m,\u001b[0m \u001b[0mk1\u001b[0m\u001b[0;34m,\u001b[0m\u001b[0mk2\u001b[0m\u001b[0;34m)\u001b[0m\u001b[0;34m,\u001b[0m \u001b[0mlabel\u001b[0m\u001b[0;34m=\u001b[0m\u001b[0;34mr\"$k1=%d$\"\u001b[0m \u001b[0;34m%\u001b[0m \u001b[0mk1\u001b[0m\u001b[0;34m)\u001b[0m\u001b[0;34m\u001b[0m\u001b[0;34m\u001b[0m\u001b[0m\n\u001b[0m\u001b[1;32m      7\u001b[0m \u001b[0;34m\u001b[0m\u001b[0m\n\u001b[1;32m      8\u001b[0m \u001b[0max\u001b[0m\u001b[0;34m.\u001b[0m\u001b[0mset_title\u001b[0m\u001b[0;34m(\u001b[0m\u001b[0;34mr\"$%s$\"\u001b[0m \u001b[0;34m%\u001b[0m \u001b[0msympy\u001b[0m\u001b[0;34m.\u001b[0m\u001b[0mlatex\u001b[0m\u001b[0;34m(\u001b[0m\u001b[0msolyc\u001b[0m\u001b[0;34m[\u001b[0m\u001b[0;36m1\u001b[0m\u001b[0;34m]\u001b[0m\u001b[0;34m)\u001b[0m\u001b[0;34m,\u001b[0m \u001b[0mfontsize\u001b[0m\u001b[0;34m=\u001b[0m\u001b[0;36m18\u001b[0m\u001b[0;34m)\u001b[0m\u001b[0;34m\u001b[0m\u001b[0;34m\u001b[0m\u001b[0m\n",
            "\u001b[0;32m<lambdifygenerated-1>\u001b[0m in \u001b[0;36m_lambdifygenerated\u001b[0;34m(y, k_1, k_2)\u001b[0m\n\u001b[1;32m      1\u001b[0m \u001b[0;32mdef\u001b[0m \u001b[0m_lambdifygenerated\u001b[0m\u001b[0;34m(\u001b[0m\u001b[0my\u001b[0m\u001b[0;34m,\u001b[0m \u001b[0mk_1\u001b[0m\u001b[0;34m,\u001b[0m \u001b[0mk_2\u001b[0m\u001b[0;34m)\u001b[0m\u001b[0;34m:\u001b[0m\u001b[0;34m\u001b[0m\u001b[0;34m\u001b[0m\u001b[0m\n\u001b[0;32m----> 2\u001b[0;31m     \u001b[0;32mreturn\u001b[0m \u001b[0;34m-\u001b[0m\u001b[0mk_1\u001b[0m\u001b[0;34m*\u001b[0m\u001b[0mx_0\u001b[0m\u001b[0;34m*\u001b[0m\u001b[0mexp\u001b[0m\u001b[0;34m(\u001b[0m\u001b[0;34m-\u001b[0m\u001b[0mk_1\u001b[0m\u001b[0;34m*\u001b[0m\u001b[0mt\u001b[0m\u001b[0;34m)\u001b[0m\u001b[0;34m/\u001b[0m\u001b[0;34m(\u001b[0m\u001b[0mk_1\u001b[0m \u001b[0;34m-\u001b[0m \u001b[0mk_2\u001b[0m\u001b[0;34m)\u001b[0m \u001b[0;34m+\u001b[0m \u001b[0;34m(\u001b[0m\u001b[0mk_1\u001b[0m\u001b[0;34m*\u001b[0m\u001b[0mx_0\u001b[0m\u001b[0;34m/\u001b[0m\u001b[0;34m(\u001b[0m\u001b[0mk_1\u001b[0m \u001b[0;34m-\u001b[0m \u001b[0mk_2\u001b[0m\u001b[0;34m)\u001b[0m \u001b[0;34m+\u001b[0m \u001b[0my_0\u001b[0m\u001b[0;34m)\u001b[0m\u001b[0;34m*\u001b[0m\u001b[0mexp\u001b[0m\u001b[0;34m(\u001b[0m\u001b[0;34m-\u001b[0m\u001b[0mk_2\u001b[0m\u001b[0;34m*\u001b[0m\u001b[0mt\u001b[0m\u001b[0;34m)\u001b[0m\u001b[0;34m\u001b[0m\u001b[0;34m\u001b[0m\u001b[0m\n\u001b[0m",
            "\u001b[0;31mTypeError\u001b[0m: loop of ufunc does not support argument 0 of type Mul which has no callable exp method"
          ]
        },
        {
          "output_type": "display_data",
          "data": {
            "text/plain": [
              "<Figure size 800x400 with 1 Axes>"
            ],
            "image/png": "[encoded data removed]"
          },
          "metadata": {}
        }
      ]
    }
  ]
}